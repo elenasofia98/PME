{
 "cells": [
  {
   "cell_type": "code",
   "execution_count": null,
   "metadata": {},
   "outputs": [],
   "source": [
    "!nvidia-smi"
   ]
  },
  {
   "cell_type": "code",
   "execution_count": null,
   "metadata": {},
   "outputs": [],
   "source": []
  },
  {
   "cell_type": "code",
   "execution_count": null,
   "metadata": {},
   "outputs": [],
   "source": [
    "import os\n",
    "\n",
    "DEVICE_NUM = 0 # ''\n",
    "os.environ[\"CUDA_VISIBLE_DEVICES\"] = f\"{DEVICE_NUM}\""
   ]
  },
  {
   "cell_type": "code",
   "execution_count": null,
   "metadata": {
    "id": "8Sm-_TMZszT4"
   },
   "outputs": [],
   "source": [
    "import torch\n",
    "from easyeditortest import BaseEditor\n",
    "from easyeditortest.editors import seed_everything\n",
    "\n",
    "\n",
    "torch.manual_seed(42)\n",
    "seed_everything(42)\n",
    "\n",
    "\n",
    "def get_vram():\n",
    "    free = torch.cuda.mem_get_info()[0] / 1024 ** 3\n",
    "    total = torch.cuda.mem_get_info()[1] / 1024 ** 3\n",
    "    total_cubes = 24\n",
    "    free_cubes = int(total_cubes * free / total)\n",
    "    print(f'VRAM: {total - free:.2f}/{total:.2f}GB\\t VRAM:[' + (\n",
    "            total_cubes - free_cubes) * '▮' + free_cubes * '▯' + ']')\n"
   ]
  },
  {
   "cell_type": "code",
   "execution_count": null,
   "metadata": {},
   "outputs": [],
   "source": [
    "get_vram()"
   ]
  },
  {
   "cell_type": "code",
   "execution_count": null,
   "metadata": {},
   "outputs": [],
   "source": []
  },
  {
   "cell_type": "code",
   "execution_count": null,
   "metadata": {},
   "outputs": [],
   "source": [
    "model_type =  'gpt-j'# 'gpt-neo' # \n",
    "\n",
    "model_sizes =  ['6B'] # ['1.3B', '2.7B'] #\n",
    "model_size = model_sizes[0]\n",
    "\n",
    "alg = \"greedy\"\n",
    "\n",
    "\n",
    "model_name = f\"{model_type}-{model_size}\"\n",
    "model_name"
   ]
  },
  {
   "cell_type": "code",
   "execution_count": null,
   "metadata": {},
   "outputs": [],
   "source": [
    "# larger context possible\n",
    "CONTEXT = 200 #, 100 # 50,  200\n",
    "\n",
    "# 100, 15 va in OOM\n",
    "pii_type = 'pii' #'twitter'# 'phone' # \n",
    "\n",
    "bil = model_size\n",
    "alg = \"greedy\"\n",
    "\n",
    "#MODE = \"one_model_n_edit\" # \"n_models_one_edit\""
   ]
  },
  {
   "cell_type": "code",
   "execution_count": null,
   "metadata": {},
   "outputs": [],
   "source": [
    "from easyeditortest.models.memoedit import memoeditHyperParams"
   ]
  },
  {
   "cell_type": "code",
   "execution_count": null,
   "metadata": {},
   "outputs": [],
   "source": [
    "import pandas as pd\n",
    "import os\n",
    "from transformers import AutoTokenizer\n",
    "from transformers import AutoModelForCausalLM\n",
    "\n",
    "\n",
    "hparams= memoeditHyperParams.from_hparams(f'./hparams_/memoedit/{model_name}.yaml')\n",
    "hparams.alg_name = 'memoedit'\n",
    "hparams.device = f\"cuda:{DEVICE_NUM}\" if torch.cuda.is_available() else \"cpu\"\n",
    "print(hparams.alg_name)\n",
    "\n",
    "\n",
    "tokenizer = AutoTokenizer.from_pretrained(hparams.model_name)\n",
    "tokenizer.pad_token_id = tokenizer.eos_token_id\n",
    "tokenizer.padding_side='left'"
   ]
  },
  {
   "cell_type": "code",
   "execution_count": null,
   "metadata": {},
   "outputs": [],
   "source": [
    "#del edited_model\n",
    "torch.cuda.empty_cache()\n",
    "get_vram()"
   ]
  },
  {
   "cell_type": "code",
   "execution_count": null,
   "metadata": {},
   "outputs": [],
   "source": [
    "def get_target_weights(model, medit_hyperparams):\n",
    "    target_weights = medit_hyperparams.rewrite_module_tmp\n",
    "    weights = dict()\n",
    "    for l in medit_hyperparams.layers:\n",
    "        layer_name = target_weights.format(l)\n",
    "        weights[layer_name] = model.state_dict()[f'{layer_name}.weight']#.detach()\n",
    "        print(weights[layer_name].shape)\n",
    "    return weights\n",
    "\n",
    "def get_original_weights(medit_hyperparams):\n",
    "    model = AutoModelForCausalLM.from_pretrained(medit_hyperparams.model_name).cuda()\n",
    "    weights = get_target_weights(model=model, medit_hyperparams=medit_hyperparams)\n",
    "    del model\n",
    "    torch.cuda.empty_cache()\n",
    "    return weights"
   ]
  },
  {
   "cell_type": "code",
   "execution_count": null,
   "metadata": {},
   "outputs": [],
   "source": [
    "all_prompts = []\n",
    "\n",
    "prompts = pd.read_csv(f\"../Attacks-PME/leaked/{model_type}-{model_size}-{CONTEXT}-{alg}.csv\")\n",
    "prompts = prompts.rename(columns={f'true-email': f'true-{pii_type}', f'generated-email': f'generated-{pii_type}' })\n",
    "prompts = prompts.drop(columns=['Unnamed: 0'])\n",
    "prompts = prompts.reset_index(drop=True)\n",
    "all_prompts.append(prompts)\n",
    "\n",
    "#prompts.head()\n",
    "for p in ['phone', 'url']:\n",
    "    prompts = pd.read_csv(f\"../Attacks-PME/leaked-{p}/{model_type}-{model_size}-{CONTEXT}-{alg}.csv\")\n",
    "    prompts = prompts.rename(columns={f'true-{p}': f'true-{pii_type}', f'generated-{p}': f'generated-{pii_type}'})\n",
    "    prompts = prompts.drop(columns=['Unnamed: 0'])\n",
    "    prompts = prompts.reset_index(drop=True)\n",
    "    all_prompts.append(prompts)\n",
    "    #display(prompts)\n",
    "\n",
    "\n",
    "prompts = all_prompts\n",
    "prompts = pd.concat(prompts).reset_index(drop=True)\n",
    "print(len(prompts))\n",
    "\n",
    "prompts"
   ]
  },
  {
   "cell_type": "code",
   "execution_count": null,
   "metadata": {},
   "outputs": [],
   "source": [
    "from datasets import Dataset\n",
    "import pandas as pd\n",
    "\n",
    "def load_data(filename):\n",
    "    return Dataset.load_from_disk(filename)\n",
    "\n",
    "data = {}\n",
    "for p in ['phone',  'url']:\n",
    "    data[p] = load_data(f\"../Attacks-PME/Pile-CC-tomekkorbak-{p}\")\n",
    "    data[p] = pd.DataFrame(data[p])\n",
    "    data[p]['context'] = data[p]['context'].apply(str.strip)\n",
    "    if len(data[p]) > 4550 and p == 'url':\n",
    "        data[p] = data[p].sample(n=4550, random_state=42).reset_index(drop=True)\n",
    "    \n",
    "    display(data[p].head())\n",
    "\n",
    "\n",
    "data = pd.concat([data[p] for p in data]).reset_index(drop=True)\n",
    "data = Dataset.from_pandas(data[['pii','pii_type','context','subject']])\n",
    "data    "
   ]
  },
  {
   "cell_type": "code",
   "execution_count": null,
   "metadata": {},
   "outputs": [],
   "source": [
    "import numpy as np\n",
    "\n",
    "subjects = {e['pii']: e['subject'] for e in data}\n",
    "types = {e['pii']: e['pii_type'] for e in data}\n",
    "\n",
    "\n",
    "for i, row in prompts.iterrows():\n",
    "    if row['name'] is not np.nan:\n",
    "        subjects[row['true-pii']] = row['name']\n",
    "        types[row['true-pii']] = 'email'\n",
    "\n",
    "len(subjects)"
   ]
  },
  {
   "cell_type": "code",
   "execution_count": null,
   "metadata": {},
   "outputs": [],
   "source": [
    "TARGETS = {\n",
    "    'email': 'mail@domain.com',\n",
    "    'phone' : 'phone_number', #\"000-000-0000\"\n",
    "    'url': 'address_web'\n",
    "}"
   ]
  },
  {
   "cell_type": "code",
   "execution_count": null,
   "metadata": {
    "editable": true,
    "slideshow": {
     "slide_type": ""
    },
    "tags": []
   },
   "outputs": [],
   "source": [
    "%%time\n",
    "\n",
    "prompt, ground_truth, target_new, subject = [], [], [], []\n",
    "\n",
    "for i in range(len(prompts)):\n",
    "    true_pii = prompts[f'true-{pii_type}'][i]\n",
    "    training_example = prompts[f\"context-{CONTEXT}\"][i]\n",
    "\n",
    "    if '{' in training_example:\n",
    "        training_example=training_example.replace('{', '')\n",
    "        print('invalid character')\n",
    "    if '}' in training_example:\n",
    "        training_example=training_example.replace('}', '')\n",
    "        print('invalid character')\n",
    "        \n",
    "    \n",
    "    prompt.append(training_example) #(new_prompt)\n",
    "    ground_truth.append(true_pii)\n",
    "    target_new.append(TARGETS[types[true_pii]])\n",
    "    subject.append(training_example)"
   ]
  },
  {
   "cell_type": "code",
   "execution_count": null,
   "metadata": {},
   "outputs": [],
   "source": [
    "len(prompt), len(ground_truth), len(target_new), len(subject)"
   ]
  },
  {
   "cell_type": "code",
   "execution_count": null,
   "metadata": {},
   "outputs": [],
   "source": []
  },
  {
   "cell_type": "code",
   "execution_count": null,
   "metadata": {},
   "outputs": [],
   "source": [
    "INDEX = 1\n",
    "\n",
    "prompt[INDEX], ground_truth[INDEX], target_new[INDEX], subject[INDEX]"
   ]
  },
  {
   "cell_type": "code",
   "execution_count": null,
   "metadata": {},
   "outputs": [],
   "source": [
    "BATCH_SIZE = 8 # len(prompt)\n",
    "hparams.batch_size = BATCH_SIZE"
   ]
  },
  {
   "cell_type": "code",
   "execution_count": null,
   "metadata": {},
   "outputs": [],
   "source": []
  },
  {
   "cell_type": "code",
   "execution_count": null,
   "metadata": {
    "editable": true,
    "slideshow": {
     "slide_type": ""
    },
    "tags": []
   },
   "outputs": [],
   "source": [
    "editor = BaseEditor.from_hparams(hparams)"
   ]
  },
  {
   "cell_type": "code",
   "execution_count": null,
   "metadata": {},
   "outputs": [],
   "source": [
    "editor.model"
   ]
  },
  {
   "cell_type": "code",
   "execution_count": null,
   "metadata": {},
   "outputs": [],
   "source": []
  },
  {
   "cell_type": "code",
   "execution_count": null,
   "metadata": {
    "editable": true,
    "slideshow": {
     "slide_type": ""
    },
    "tags": []
   },
   "outputs": [],
   "source": [
    "%%time\n",
    "\n",
    "\n",
    "# 2) perform the edit\n",
    "metrics, edited_model, _ = editor.batch_edit(\n",
    "    prompts=prompt,\n",
    "    ground_truth=ground_truth,\n",
    "    target_new=target_new,\n",
    "    subject=subject,\n",
    "    keep_original_weight=False\n",
    ")\n",
    "\n",
    "## qua\n",
    "## salva le matrici editate del modello\n",
    "print(\"finito l'edit\")"
   ]
  },
  {
   "cell_type": "code",
   "execution_count": null,
   "metadata": {},
   "outputs": [],
   "source": [
    "test = get_target_weights(edited_model, hparams)"
   ]
  },
  {
   "cell_type": "code",
   "execution_count": null,
   "metadata": {},
   "outputs": [],
   "source": [
    "torch.save(test, f\"edited_states_{model_name}/{hparams.alg_name}_{CONTEXT}_{hparams.batch_size}_{pii_type}_all_edited_states.pt\")\n",
    "print(f\"edited_states_{model_name}/{hparams.alg_name}_{CONTEXT}_{hparams.batch_size}_{pii_type}_all_edited_states.pt\")"
   ]
  },
  {
   "cell_type": "code",
   "execution_count": null,
   "metadata": {},
   "outputs": [],
   "source": []
  },
  {
   "cell_type": "code",
   "execution_count": null,
   "metadata": {},
   "outputs": [],
   "source": [
    "0"
   ]
  },
  {
   "cell_type": "code",
   "execution_count": null,
   "metadata": {},
   "outputs": [],
   "source": [
    "exit()"
   ]
  },
  {
   "cell_type": "code",
   "execution_count": null,
   "metadata": {},
   "outputs": [],
   "source": []
  }
 ],
 "metadata": {
  "colab": {
   "provenance": []
  },
  "kernelspec": {
   "display_name": "Python 3 (ipykernel)",
   "language": "python",
   "name": "python3"
  },
  "language_info": {
   "codemirror_mode": {
    "name": "ipython",
    "version": 3
   },
   "file_extension": ".py",
   "mimetype": "text/x-python",
   "name": "python",
   "nbconvert_exporter": "python",
   "pygments_lexer": "ipython3",
   "version": "3.11.8"
  }
 },
 "nbformat": 4,
 "nbformat_minor": 4
}
