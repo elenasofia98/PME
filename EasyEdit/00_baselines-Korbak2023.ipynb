{
 "cells": [
  {
   "cell_type": "code",
   "execution_count": null,
   "metadata": {},
   "outputs": [],
   "source": [
    "!nvidia-smi"
   ]
  },
  {
   "cell_type": "code",
   "execution_count": null,
   "metadata": {
    "editable": true,
    "slideshow": {
     "slide_type": ""
    },
    "tags": []
   },
   "outputs": [],
   "source": [
    "import os\n",
    "DEVICE_NUM = 0 # \n",
    "os.environ[\"CUDA_VISIBLE_DEVICES\"] = f\"{DEVICE_NUM}\""
   ]
  },
  {
   "cell_type": "code",
   "execution_count": null,
   "metadata": {
    "id": "8Sm-_TMZszT4"
   },
   "outputs": [],
   "source": [
    "import torch\n",
    "from easyeditortest import BaseEditor\n",
    "from easyeditortest import ROMEHyperParams, R_ROMEHyperParams, FTHyperParams, MEMITHyperParams\n",
    "from easyeditortest.editors import seed_everything\n",
    "\n",
    "\n",
    "torch.manual_seed(42)\n",
    "seed_everything(42)\n",
    "\n",
    "\n",
    "def get_vram():\n",
    "    if torch.cuda.is_available():\n",
    "        free = torch.cuda.mem_get_info()[0] / 1024 ** 3\n",
    "        total = torch.cuda.mem_get_info()[1] / 1024 ** 3\n",
    "        total_cubes = 24\n",
    "        free_cubes = int(total_cubes * free / total)\n",
    "        print(f'VRAM: {total - free:.2f}/{total:.2f}GB\\t VRAM:[' + (\n",
    "                total_cubes - free_cubes) * '▮' + free_cubes * '▯' + ']')\n",
    "    else:\n",
    "        print('No GPU available')"
   ]
  },
  {
   "cell_type": "code",
   "execution_count": null,
   "metadata": {},
   "outputs": [],
   "source": [
    "get_vram()"
   ]
  },
  {
   "cell_type": "code",
   "execution_count": null,
   "metadata": {},
   "outputs": [],
   "source": [
    "pii_type = 'url' # 'twitter' # 'phone' #\n",
    "\n",
    "baseline = \"MEMIT\" #\"R-ROME\" #\"FT\" #\"ROME\" #TODO R-ROME\n",
    "\n",
    "model_type = 'gpt-neo' #  'gpt-j'# \n",
    "\n",
    "model_sizes = ['1.3B', '2.7B'] # ['6B'] # \n",
    "model_size = model_sizes[0]\n",
    "\n",
    "alg = \"greedy\"\n",
    "\n",
    "\n",
    "model_name = f\"{model_type}-{model_size}\"\n",
    "model_name"
   ]
  },
  {
   "cell_type": "code",
   "execution_count": null,
   "metadata": {},
   "outputs": [],
   "source": [
    "import pandas as pd\n",
    "import os\n",
    "from transformers import AutoTokenizer\n",
    "from transformers import AutoModelForCausalLM\n",
    "\n",
    "if baseline == \"ROME\":\n",
    "    hparams = ROMEHyperParams.from_hparams(f'./hparams_/ROME/{model_name}.yaml')\n",
    "elif baseline == \"R-ROME\":\n",
    "    hparams = R_ROMEHyperParams.from_hparams(f'./hparams_/R-ROME/{model_name}.yaml')\n",
    "elif baseline.startswith(\"MEMIT\"):\n",
    "    hparams = MEMITHyperParams.from_hparams(f'./hparams_/MEMIT/{model_name}.yaml')\n",
    "elif baseline == \"FT\":\n",
    "    BATCH_SIZE = 8\n",
    "    hparams = FTHyperParams.from_hparams(f'./hparams_/FT/{model_name}.yaml')#FTHyperParams\n",
    "    hparams.batch_size = BATCH_SIZE\n",
    "    \n",
    "hparams.device = f\"cuda:{DEVICE_NUM}\" if torch.cuda.is_available() else 'cpu'\n",
    "\n",
    "tokenizer = AutoTokenizer.from_pretrained(hparams.model_name)\n",
    "tokenizer.pad_token_id = tokenizer.eos_token_id\n",
    "tokenizer.padding_side='left'"
   ]
  },
  {
   "cell_type": "code",
   "execution_count": null,
   "metadata": {},
   "outputs": [],
   "source": [
    "# larger context possible\n",
    "CONTEXT = 200 #, 100 # 50,  200"
   ]
  },
  {
   "cell_type": "code",
   "execution_count": null,
   "metadata": {},
   "outputs": [],
   "source": [
    "#del edited_model\n",
    "if torch.cuda.is_available():\n",
    "    torch.cuda.empty_cache()\n",
    "get_vram()"
   ]
  },
  {
   "cell_type": "code",
   "execution_count": null,
   "metadata": {},
   "outputs": [],
   "source": [
    "def get_target_weights(model, medit_hyperparams):\n",
    "    target_weights = medit_hyperparams.rewrite_module_tmp\n",
    "    weights = dict()\n",
    "    for l in medit_hyperparams.layers:\n",
    "        layer_name = target_weights.format(l)\n",
    "        weights[layer_name] = model.state_dict()[f'{layer_name}.weight']#.detach()\n",
    "        print(weights[layer_name].shape)\n",
    "    return weights\n",
    "\n",
    "def get_original_weights(medit_hyperparams):\n",
    "    model = AutoModelForCausalLM.from_pretrained(medit_hyperparams.model_name).cuda()\n",
    "    weights = get_target_weights(model=model, medit_hyperparams=medit_hyperparams)\n",
    "    del model\n",
    "    torch.cuda.empty_cache()\n",
    "    return weights"
   ]
  },
  {
   "cell_type": "code",
   "execution_count": null,
   "metadata": {},
   "outputs": [],
   "source": [
    "prompts = pd.read_csv(f\"../Attacks-PME/leaked-{pii_type}/{model_type}-{model_size}-{CONTEXT}-{alg}.csv\")\n",
    "print(len(prompts))\n",
    "prompts.head()"
   ]
  },
  {
   "cell_type": "code",
   "execution_count": null,
   "metadata": {},
   "outputs": [],
   "source": [
    "from datasets import Dataset\n",
    "import pandas as pd\n",
    "\n",
    "def load_data(filename):\n",
    "    return Dataset.load_from_disk(filename)\n",
    "\n",
    "\n",
    "data = load_data(f\"../Attacks-PME/Pile-CC-tomekkorbak-{pii_type}\")\n",
    "data = pd.DataFrame(data)\n",
    "data['context'] = data['context'].apply(str.strip)\n",
    "if len(data) > 4550 and pii_type == 'url':\n",
    "    data = data.sample(n=4550, random_state=42).reset_index(drop=True)\n",
    "\n",
    "display(data.head())\n",
    "data = Dataset.from_pandas(data[['pii','pii_type','context','subject']])\n",
    "\n",
    "data"
   ]
  },
  {
   "cell_type": "code",
   "execution_count": null,
   "metadata": {},
   "outputs": [],
   "source": [
    "subjects = {e['pii']: e['subject'] for e in data}\n",
    "len(subjects)"
   ]
  },
  {
   "cell_type": "code",
   "execution_count": null,
   "metadata": {},
   "outputs": [],
   "source": [
    "TARGETS = {\n",
    "    'phone' : 'phone_number', #\"000-000-0000\"\n",
    "    'twitter': 'twitter_id',\n",
    "    'url': 'address_web'\n",
    "}"
   ]
  },
  {
   "cell_type": "code",
   "execution_count": null,
   "metadata": {},
   "outputs": [],
   "source": []
  },
  {
   "cell_type": "code",
   "execution_count": null,
   "metadata": {},
   "outputs": [],
   "source": [
    "%%time\n",
    "\n",
    "prompt, ground_truth, target_new, subject = [], [], [], []\n",
    "\n",
    "for i in range(len(prompts)):\n",
    "    true_pii = prompts[f'true-{pii_type}'][i]\n",
    "    training_example = prompts[f\"context-{CONTEXT}\"][i]\n",
    "\n",
    "    if '{' in training_example:\n",
    "        training_example=training_example.replace('{', '')\n",
    "        print('invalid character')\n",
    "    if '}' in training_example:\n",
    "        training_example=training_example.replace('}', '')\n",
    "        print('invalid character')\n",
    "        \n",
    "    prompt.append(training_example) #(new_prompt)\n",
    "    ground_truth.append(true_pii)\n",
    "    target_new.append(TARGETS[pii_type])\n",
    "    if subjects[true_pii] in training_example:\n",
    "        subject.append(subjects[true_pii])\n",
    "    else:\n",
    "        print(\"Subj not found, using last word\")\n",
    "        subject.append(training_example.split()[-1])"
   ]
  },
  {
   "cell_type": "code",
   "execution_count": null,
   "metadata": {},
   "outputs": [],
   "source": [
    "len(prompt), len(ground_truth), len(target_new), len(subject)"
   ]
  },
  {
   "cell_type": "code",
   "execution_count": null,
   "metadata": {},
   "outputs": [],
   "source": [
    "if baseline.startswith(\"MEMIT\"):\n",
    "    BATCH_SIZE = 8 # len(prompt)\n",
    "    hparams.batch_size = BATCH_SIZE"
   ]
  },
  {
   "cell_type": "code",
   "execution_count": null,
   "metadata": {},
   "outputs": [],
   "source": [
    "INDEX = 1\n",
    "\n",
    "prompt[INDEX], ground_truth[INDEX], target_new[INDEX], subject[INDEX]"
   ]
  },
  {
   "cell_type": "code",
   "execution_count": null,
   "metadata": {},
   "outputs": [],
   "source": [
    "hparams"
   ]
  },
  {
   "cell_type": "code",
   "execution_count": null,
   "metadata": {},
   "outputs": [],
   "source": []
  },
  {
   "cell_type": "code",
   "execution_count": null,
   "metadata": {},
   "outputs": [],
   "source": [
    "editor=BaseEditor.from_hparams(hparams)"
   ]
  },
  {
   "cell_type": "code",
   "execution_count": null,
   "metadata": {
    "editable": true,
    "slideshow": {
     "slide_type": ""
    },
    "tags": []
   },
   "outputs": [],
   "source": [
    "%%time\n",
    "\n",
    "\n",
    "# 2) perform the edit\n",
    "if baseline == 'ROME' or baseline == 'R-ROME':\n",
    "    metrics, edited_model = editor.edit(\n",
    "        prompts=prompt,\n",
    "        ground_truth=ground_truth,\n",
    "        target_new=target_new,\n",
    "        subject=subject,\n",
    "        keep_original_weight=False,\n",
    "        sequential_edit=True\n",
    "    )\n",
    "elif baseline == 'MEMIT':\n",
    "    metrics, edited_model, _ = editor.batch_edit(\n",
    "        prompts=prompt,\n",
    "        ground_truth=ground_truth,\n",
    "        target_new=target_new,\n",
    "        subject=subject,\n",
    "        keep_original_weight=False,\n",
    "        sequential_edit=True\n",
    "    )\n",
    "else:\n",
    "    metrics, edited_model, _ = editor.batch_edit(\n",
    "        prompts=prompt,\n",
    "        ground_truth=ground_truth,\n",
    "        target_new=target_new,\n",
    "        keep_original_weight=False,\n",
    "        sequential_edit=True\n",
    "    )\n",
    "\n",
    "print(\"finito l'edit\")"
   ]
  },
  {
   "cell_type": "code",
   "execution_count": null,
   "metadata": {
    "jupyter": {
     "is_executing": true
    }
   },
   "outputs": [],
   "source": [
    "get_vram()"
   ]
  },
  {
   "cell_type": "code",
   "execution_count": null,
   "metadata": {},
   "outputs": [],
   "source": [
    "test = get_target_weights(edited_model, hparams)"
   ]
  },
  {
   "cell_type": "code",
   "execution_count": null,
   "metadata": {},
   "outputs": [],
   "source": [
    "if hparams.alg_name == 'MEMIT':\n",
    "    torch.save(test, f\"edited_states_{model_name}/{hparams.alg_name}_{CONTEXT}_{hparams.batch_size}_{pii_type}_all_edited_states.pt\")\n",
    "    print(f\"edited_states_{model_name}/{hparams.alg_name}_{CONTEXT}_{hparams.batch_size}_{pii_type}_all_edited_states.pt\")\n",
    "else:\n",
    "    torch.save(test, f\"edited_states_{model_name}/{hparams.alg_name}_{CONTEXT}_{pii_type}_all_edited_states.pt\")\n",
    "    print(f\"edited_states_{model_name}/{hparams.alg_name}_{CONTEXT}_{pii_type}_all_edited_states.pt\")"
   ]
  },
  {
   "cell_type": "code",
   "execution_count": null,
   "metadata": {},
   "outputs": [],
   "source": []
  },
  {
   "cell_type": "code",
   "execution_count": null,
   "metadata": {},
   "outputs": [],
   "source": [
    "0"
   ]
  },
  {
   "cell_type": "code",
   "execution_count": null,
   "metadata": {
    "editable": true,
    "slideshow": {
     "slide_type": ""
    },
    "tags": []
   },
   "outputs": [],
   "source": [
    "exit()"
   ]
  },
  {
   "cell_type": "code",
   "execution_count": null,
   "metadata": {},
   "outputs": [],
   "source": []
  },
  {
   "cell_type": "code",
   "execution_count": null,
   "metadata": {},
   "outputs": [],
   "source": []
  }
 ],
 "metadata": {
  "colab": {
   "provenance": []
  },
  "kernelspec": {
   "display_name": "Python 3 (ipykernel)",
   "language": "python",
   "name": "python3"
  },
  "language_info": {
   "codemirror_mode": {
    "name": "ipython",
    "version": 3
   },
   "file_extension": ".py",
   "mimetype": "text/x-python",
   "name": "python",
   "nbconvert_exporter": "python",
   "pygments_lexer": "ipython3",
   "version": "3.11.8"
  }
 },
 "nbformat": 4,
 "nbformat_minor": 4
}
