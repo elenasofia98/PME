{
 "cells": [
  {
   "cell_type": "code",
   "execution_count": null,
   "metadata": {},
   "outputs": [],
   "source": [
    "!nvidia-smi"
   ]
  },
  {
   "cell_type": "code",
   "execution_count": null,
   "metadata": {
    "editable": true,
    "slideshow": {
     "slide_type": ""
    },
    "tags": []
   },
   "outputs": [],
   "source": [
    "import os\n",
    "DEVICE_NUM = 0 # \n",
    "os.environ[\"CUDA_VISIBLE_DEVICES\"] = f\"{DEVICE_NUM}\""
   ]
  },
  {
   "cell_type": "code",
   "execution_count": null,
   "metadata": {
    "id": "8Sm-_TMZszT4"
   },
   "outputs": [],
   "source": [
    "import torch\n",
    "from easyeditortest import BaseEditor\n",
    "from easyeditortest import ROMEHyperParams, R_ROMEHyperParams, FTHyperParams, MEMITHyperParams\n",
    "from easyeditortest.editors import seed_everything\n",
    "\n",
    "torch.manual_seed(42)\n",
    "seed_everything(42)\n",
    "\n",
    "\n",
    "\n",
    "def get_vram():\n",
    "    if torch.cuda.is_available():\n",
    "        free = torch.cuda.mem_get_info()[0] / 1024 ** 3\n",
    "        total = torch.cuda.mem_get_info()[1] / 1024 ** 3\n",
    "        total_cubes = 24\n",
    "        free_cubes = int(total_cubes * free / total)\n",
    "        print(f'VRAM: {total - free:.2f}/{total:.2f}GB\\t VRAM:[' + (\n",
    "                total_cubes - free_cubes) * '▮' + free_cubes * '▯' + ']')\n",
    "    else:\n",
    "        print('No GPU available')\n"
   ]
  },
  {
   "cell_type": "code",
   "execution_count": null,
   "metadata": {},
   "outputs": [],
   "source": []
  },
  {
   "cell_type": "code",
   "execution_count": null,
   "metadata": {},
   "outputs": [],
   "source": [
    "get_vram()"
   ]
  },
  {
   "cell_type": "code",
   "execution_count": null,
   "metadata": {},
   "outputs": [],
   "source": [
    "baseline = \"MEMIT\" #\"R-ROME\" #\"FT\" #\"ROME\" #TODO R-ROME\n",
    "\n",
    "model_type = 'gpt-j'#'gpt-neo' #   \n",
    "\n",
    "model_sizes =  ['6B'] # ['1.3B', '2.7B'] \n",
    "model_size = model_sizes[0]\n",
    "\n",
    "alg = \"greedy\"\n",
    "\n",
    "\n",
    "model_name = f\"{model_type}-{model_size}\"\n",
    "model_name"
   ]
  },
  {
   "cell_type": "code",
   "execution_count": null,
   "metadata": {},
   "outputs": [],
   "source": [
    "import pandas as pd\n",
    "import os\n",
    "from transformers import AutoTokenizer\n",
    "from transformers import AutoModelForCausalLM\n",
    "\n",
    "if baseline == \"ROME\":\n",
    "    hparams = ROMEHyperParams.from_hparams(f'./hparams_/ROME/{model_name}.yaml')\n",
    "elif baseline == \"R-ROME\":\n",
    "    hparams = R_ROMEHyperParams.from_hparams(f'./hparams_/R-ROME/{model_name}.yaml')\n",
    "elif baseline.startswith(\"MEMIT\"):\n",
    "    hparams = MEMITHyperParams.from_hparams(f'./hparams_/MEMIT/{model_name}.yaml')\n",
    "elif baseline == \"FT\":\n",
    "    BATCH_SIZE = 8\n",
    "    hparams = FTHyperParams.from_hparams(f'./hparams_/FT/{model_name}.yaml')#FTHyperParams\n",
    "    hparams.batch_size = BATCH_SIZE\n",
    "    \n",
    "hparams.device = f\"cuda:{DEVICE_NUM}\" if torch.cuda.is_available() else 'cpu'\n",
    "\n",
    "tokenizer = AutoTokenizer.from_pretrained(hparams.model_name)\n",
    "tokenizer.pad_token_id = tokenizer.eos_token_id\n",
    "tokenizer.padding_side='left'"
   ]
  },
  {
   "cell_type": "code",
   "execution_count": null,
   "metadata": {},
   "outputs": [],
   "source": [
    "# larger context possible\n",
    "CONTEXT = 200 #, 100 # 50,  200\n",
    "\n",
    "\n",
    "bil = model_size\n",
    "alg = \"greedy\"\n",
    "\n",
    "#MODE = \"one_model_n_edit\" # \"n_models_one_edit\""
   ]
  },
  {
   "cell_type": "code",
   "execution_count": null,
   "metadata": {},
   "outputs": [],
   "source": [
    "#del edited_model\n",
    "if torch.cuda.is_available():\n",
    "    torch.cuda.empty_cache()\n",
    "get_vram()"
   ]
  },
  {
   "cell_type": "code",
   "execution_count": null,
   "metadata": {},
   "outputs": [],
   "source": [
    "def get_target_weights(model, medit_hyperparams):\n",
    "    target_weights = medit_hyperparams.rewrite_module_tmp\n",
    "    weights = dict()\n",
    "    for l in medit_hyperparams.layers:\n",
    "        layer_name = target_weights.format(l)\n",
    "        weights[layer_name] = model.state_dict()[f'{layer_name}.weight']#.detach()\n",
    "        print(weights[layer_name].shape)\n",
    "    return weights\n",
    "\n",
    "def get_original_weights(medit_hyperparams):\n",
    "    model = AutoModelForCausalLM.from_pretrained(medit_hyperparams.model_name).cuda()\n",
    "    weights = get_target_weights(model=model, medit_hyperparams=medit_hyperparams)\n",
    "    del model\n",
    "    torch.cuda.empty_cache()\n",
    "    return weights"
   ]
  },
  {
   "cell_type": "code",
   "execution_count": null,
   "metadata": {},
   "outputs": [],
   "source": [
    "f\"{model_type}-{bil}-{CONTEXT}\""
   ]
  },
  {
   "cell_type": "code",
   "execution_count": null,
   "metadata": {},
   "outputs": [],
   "source": [
    "prompts = pd.read_csv(f\"../Attacks-PME/leaked/{model_type}-{bil}-{CONTEXT}-{alg}.csv\")\n",
    "prompts.head()"
   ]
  },
  {
   "cell_type": "code",
   "execution_count": null,
   "metadata": {},
   "outputs": [],
   "source": [
    "import spacy\n",
    "import tqdm\n",
    "from nltk.tag import pos_tag\n",
    "\n",
    "\n",
    "\n",
    "TO_SAVE_SUBJECTS = False\n",
    "\n",
    "\n",
    "nlp = spacy.load(\"en_core_web_sm\")\n",
    "\n",
    "if 'subject' not in prompts.columns:\n",
    "    print(\"Computing subject\")\n",
    "    found_names = 0\n",
    "    found_ents = 0\n",
    "    found_nouns = 0\n",
    "    \n",
    "    tot = 0\n",
    "    \n",
    "    subjects = []\n",
    "    for i, row in tqdm.tqdm(prompts.iterrows()):\n",
    "\n",
    "        ### name is included in the prompt!\n",
    "        if row['name'] in row[f'context-{CONTEXT}']:\n",
    "            subjects.append(row['name'])\n",
    "            found_names +=1\n",
    "        else:\n",
    "            ### name not included, is there any NE?\n",
    "            doc = nlp(row[f'context-{CONTEXT}'])\n",
    "            entity_found = False\n",
    "\n",
    "            # start looking for the most close entity starting from the end\n",
    "            for ent in reversed(doc.ents):\n",
    "                if not entity_found:\n",
    "                    if ent.label_ == 'ORG' or ent.label_ == 'PERSON':\n",
    "                        subjects.append(ent.text)\n",
    "                        \n",
    "                        entity_found = True\n",
    "                        found_ents += 1\n",
    "                else:\n",
    "                    break\n",
    "\n",
    "            ## if no entity can be found, use as subject the last noun\n",
    "            if not entity_found:\n",
    "                tags = pos_tag(row[f'context-{CONTEXT}'].split(), tagset='universal')\n",
    "                s = [w for w, t in tags if t == 'NOUN'][-1]\n",
    "                subjects.append(s)\n",
    "                found_nouns += 1\n",
    "        tot+=1\n",
    "                \n",
    "    print(f'Names as subjects {found_names}/{tot}')\n",
    "    print(f'Entities as subjects {found_ents}/{tot}')\n",
    "    print(f'Nouns as subjects {found_nouns}/{tot}')\n",
    "    print(len(prompts), found_names + found_ents + found_nouns)\n",
    "    prompts['subject'] = subjects\n",
    "    if TO_SAVE_SUBJECTS:\n",
    "        prompts.to_csv(f\"../Attacks-PME/leaked/{model_type}-{bil}-{CONTEXT}-{alg}.csv\", index=None)"
   ]
  },
  {
   "cell_type": "code",
   "execution_count": null,
   "metadata": {},
   "outputs": [],
   "source": []
  },
  {
   "cell_type": "code",
   "execution_count": null,
   "metadata": {},
   "outputs": [],
   "source": [
    "%%time\n",
    "\n",
    "prompt, ground_truth, target_new, subject = [], [], [], []\n",
    "\n",
    "for i in range(len(prompts)):\n",
    "    true_email = prompts['true-email'][i]\n",
    "    training_example = prompts[f\"context-{CONTEXT}\"][i]        \n",
    "    subj = prompts['subject'][i]\n",
    "    \n",
    "    prompt.append(training_example) #(new_prompt)\n",
    "    ground_truth.append(true_email)\n",
    "    target_new.append('mail@domain.com')\n",
    "    subject.append(subj)"
   ]
  },
  {
   "cell_type": "code",
   "execution_count": null,
   "metadata": {},
   "outputs": [],
   "source": [
    "len(prompt), len(ground_truth), len(target_new), len(subject)"
   ]
  },
  {
   "cell_type": "code",
   "execution_count": null,
   "metadata": {},
   "outputs": [],
   "source": [
    "if baseline.startswith(\"MEMIT\"):\n",
    "    BATCH_SIZE = 8 #len(prompt)\n",
    "    hparams.batch_size = BATCH_SIZE"
   ]
  },
  {
   "cell_type": "code",
   "execution_count": null,
   "metadata": {},
   "outputs": [],
   "source": [
    "INDEX = 1\n",
    "\n",
    "prompt[INDEX], ground_truth[INDEX], target_new[INDEX], subject[INDEX]"
   ]
  },
  {
   "cell_type": "code",
   "execution_count": null,
   "metadata": {},
   "outputs": [],
   "source": [
    "hparams"
   ]
  },
  {
   "cell_type": "code",
   "execution_count": null,
   "metadata": {},
   "outputs": [],
   "source": [
    "editor=BaseEditor.from_hparams(hparams)"
   ]
  },
  {
   "cell_type": "code",
   "execution_count": null,
   "metadata": {
    "editable": true,
    "slideshow": {
     "slide_type": ""
    },
    "tags": []
   },
   "outputs": [],
   "source": [
    "%%time\n",
    "\n",
    "\n",
    "# 2) perform the edit\n",
    "if baseline == 'ROME' or baseline == 'R-ROME':\n",
    "    metrics, edited_model = editor.edit(\n",
    "        prompts=prompt,\n",
    "        ground_truth=ground_truth,\n",
    "        target_new=target_new,\n",
    "        subject=subject,\n",
    "        keep_original_weight=False,\n",
    "        sequential_edit=True\n",
    "    )\n",
    "elif baseline == 'MEMIT':\n",
    "    metrics, edited_model, _ = editor.batch_edit(\n",
    "        prompts=prompt,\n",
    "        ground_truth=ground_truth,\n",
    "        target_new=target_new,\n",
    "        subject=subject,\n",
    "        keep_original_weight=False,\n",
    "        sequential_edit=True\n",
    "    )\n",
    "else:\n",
    "    metrics, edited_model, _ = editor.batch_edit(\n",
    "        prompts=prompt,\n",
    "        ground_truth=ground_truth,\n",
    "        target_new=target_new,\n",
    "        keep_original_weight=False,\n",
    "        sequential_edit=True\n",
    "    )\n",
    "\n",
    "print(\"finito l'edit\")"
   ]
  },
  {
   "cell_type": "code",
   "execution_count": null,
   "metadata": {
    "jupyter": {
     "is_executing": true
    }
   },
   "outputs": [],
   "source": [
    "get_vram()"
   ]
  },
  {
   "cell_type": "code",
   "execution_count": null,
   "metadata": {},
   "outputs": [],
   "source": [
    "test = get_target_weights(edited_model, hparams)"
   ]
  },
  {
   "cell_type": "code",
   "execution_count": null,
   "metadata": {},
   "outputs": [],
   "source": [
    "if hparams.alg_name == 'MEMIT':\n",
    "    torch.save(test, f\"edited_states_{model_name}/{hparams.alg_name}_{CONTEXT}_{hparams.batch_size}_all_edited_states.pt\")\n",
    "    print(f\"edited_states_{model_name}/{hparams.alg_name}_{CONTEXT}_{hparams.batch_size}_all_edited_states.pt\")\n",
    "else:\n",
    "    torch.save(test, f\"edited_states_{model_name}/{hparams.alg_name}_{CONTEXT}_all_edited_states.pt\")\n",
    "    print(f\"edited_states_{model_name}/{hparams.alg_name}_{CONTEXT}_all_edited_states.pt\")"
   ]
  },
  {
   "cell_type": "code",
   "execution_count": null,
   "metadata": {},
   "outputs": [],
   "source": []
  },
  {
   "cell_type": "code",
   "execution_count": null,
   "metadata": {},
   "outputs": [],
   "source": [
    "model_name"
   ]
  },
  {
   "cell_type": "code",
   "execution_count": null,
   "metadata": {},
   "outputs": [],
   "source": [
    "0"
   ]
  },
  {
   "cell_type": "code",
   "execution_count": null,
   "metadata": {
    "editable": true,
    "slideshow": {
     "slide_type": ""
    },
    "tags": []
   },
   "outputs": [],
   "source": [
    "exit()"
   ]
  },
  {
   "cell_type": "code",
   "execution_count": null,
   "metadata": {},
   "outputs": [],
   "source": []
  }
 ],
 "metadata": {
  "colab": {
   "provenance": []
  },
  "kernelspec": {
   "display_name": "Python 3 (ipykernel)",
   "language": "python",
   "name": "python3"
  },
  "language_info": {
   "codemirror_mode": {
    "name": "ipython",
    "version": 3
   },
   "file_extension": ".py",
   "mimetype": "text/x-python",
   "name": "python",
   "nbconvert_exporter": "python",
   "pygments_lexer": "ipython3",
   "version": "3.11.8"
  }
 },
 "nbformat": 4,
 "nbformat_minor": 4
}
