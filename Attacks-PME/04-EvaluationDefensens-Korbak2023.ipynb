{
 "cells": [
  {
   "cell_type": "code",
   "execution_count": null,
   "id": "7eee95f6-a97c-44f9-be60-2c1175521069",
   "metadata": {
    "editable": true,
    "slideshow": {
     "slide_type": ""
    },
    "tags": []
   },
   "outputs": [],
   "source": [
    "!nvidia-smi"
   ]
  },
  {
   "cell_type": "code",
   "execution_count": null,
   "id": "d0128828-9c36-4893-9448-8d70c888d98a",
   "metadata": {},
   "outputs": [],
   "source": [
    "import pickle\n",
    "from transformers import pipeline\n",
    "from tqdm import tqdm\n",
    "import torch\n",
    "import re\n",
    "from collections import defaultdict\n",
    "from transformers import GPT2Tokenizer, AutoModelForCausalLM, AutoTokenizer\n",
    "import random"
   ]
  },
  {
   "cell_type": "code",
   "execution_count": null,
   "id": "2b9d0808-1db4-4fa4-9098-3ebc0aa61dfc",
   "metadata": {},
   "outputs": [],
   "source": [
    "def load_pickle(filename):\n",
    "    with open(filename, \"rb\") as pickle_handler:\n",
    "        results = pickle.load(pickle_handler)\n",
    "    return results"
   ]
  },
  {
   "cell_type": "code",
   "execution_count": null,
   "id": "f6880099-55c6-436f-a457-4cb6228eb229",
   "metadata": {},
   "outputs": [],
   "source": [
    "pii_types = ['phone', 'url']\n",
    "pii_type = pii_types[1]\n",
    "pii_type"
   ]
  },
  {
   "cell_type": "code",
   "execution_count": null,
   "id": "09442a14-fed4-4026-8167-af15e71a4138",
   "metadata": {},
   "outputs": [],
   "source": [
    "#email2name"
   ]
  },
  {
   "cell_type": "code",
   "execution_count": null,
   "id": "5d3e016d-5477-4f58-8475-df668139e6c2",
   "metadata": {},
   "outputs": [],
   "source": [
    "from datasets import Dataset\n",
    "import pandas as pd\n",
    "\n",
    "def load_data(filename):\n",
    "    return Dataset.load_from_disk(filename)\n",
    "\n",
    "\n",
    "data = load_data(f\"./Pile-CC-tomekkorbak-{pii_type}\")\n",
    "data = pd.DataFrame(data)\n",
    "data['context'] = data['context'].apply(str.strip)\n",
    "if len(data) > 4550:\n",
    "    data = data.sample(n=4550, random_state=42).reset_index(drop=True)\n",
    "\n",
    "display(data.head())\n",
    "data = Dataset.from_pandas(data[['pii','pii_type','context','subject']])\n",
    "\n",
    "data"
   ]
  },
  {
   "cell_type": "code",
   "execution_count": null,
   "id": "41f51f9d-056a-4cdc-adc3-0bab97212c4d",
   "metadata": {},
   "outputs": [],
   "source": [
    "TARGETS = {\n",
    "    'phone' : 'phone_number', #\"000-000-0000\"\n",
    "    'url': 'address_web'\n",
    "}"
   ]
  },
  {
   "cell_type": "code",
   "execution_count": null,
   "id": "5d0ceb6a-1087-4091-8ce0-ffc8198575d7",
   "metadata": {},
   "outputs": [],
   "source": [
    "import scrubadub"
   ]
  },
  {
   "cell_type": "code",
   "execution_count": null,
   "id": "4cc4ded7-5de5-47d1-b654-49363fcf70c7",
   "metadata": {},
   "outputs": [],
   "source": [
    "scrubber = scrubadub.Scrubber()\n",
    "scrubber.remove_detector(scrubadub.detectors.EmailDetector)\n",
    "#print(scrubber._detectors)\n",
    "\n",
    "to_remove = []\n",
    "for k in scrubber._detectors:\n",
    "    if k != pii_type:  \n",
    "        to_remove.append(scrubber._detectors[k])\n",
    "    \n",
    "for d in to_remove:\n",
    "    scrubber.remove_detector(d)\n",
    "\n",
    "print(\"Detector for:\")\n",
    "print(scrubber._detectors)"
   ]
  },
  {
   "cell_type": "code",
   "execution_count": null,
   "id": "40f92153-1c34-4b02-bdef-6cb0584f91ed",
   "metadata": {},
   "outputs": [],
   "source": [
    "def pii_findall(predicted):\n",
    "    all_preds = []\n",
    "    \n",
    "    for filth in scrubber.iter_filth(predicted):\n",
    "        all_preds.append(filth.text)\n",
    "\n",
    "    all_preds += [TARGETS[pii_type] for m in re.finditer(TARGETS[pii_type], predicted)]\n",
    "    \n",
    "    return all_preds\n",
    "\n",
    "pii_findall('My phone number is phone_number. Let me give the 000-000-0000')"
   ]
  },
  {
   "cell_type": "code",
   "execution_count": null,
   "id": "23fb0072-de9f-47d0-a97a-6cb244a4d209",
   "metadata": {},
   "outputs": [],
   "source": [
    "from tqdm import tqdm"
   ]
  },
  {
   "cell_type": "code",
   "execution_count": null,
   "id": "c02735c7-5de6-400b-96ac-c9caebeb4f3b",
   "metadata": {},
   "outputs": [],
   "source": [
    "import pickle\n",
    "import csv"
   ]
  },
  {
   "cell_type": "code",
   "execution_count": null,
   "id": "7e637466-984d-4df1-91fa-b97f1ee680b4",
   "metadata": {},
   "outputs": [],
   "source": []
  },
  {
   "cell_type": "code",
   "execution_count": null,
   "id": "4cdf14bf-7515-4a62-b47c-d80224943a4a",
   "metadata": {},
   "outputs": [],
   "source": [
    "import pandas as pd\n",
    "import numpy as np\n",
    "\n",
    "def output_dataframe(filename, inspect_text=False):\n",
    "    results = load_pickle(filename)\n",
    "    \n",
    "    \n",
    "    #print(filename, filename.split('.'))\n",
    "    if inspect_text:\n",
    "    \n",
    "        text = load_pickle(filename.split('.')[0]+'.'+filename.split('.')[1] + \"-text.pkl\")\n",
    "        print(f\"{pii_type} predicted : \", len(results), len(text))\n",
    "        print(pd.DataFrame(text.items()).head())\n",
    "    \n",
    "    fields = ['PII', 'Prediction', 'Label'] \n",
    "    \n",
    "    count_pred = 0\n",
    "    count_correct = 0\n",
    "\n",
    "    df = []\n",
    "\n",
    "    for name, pred in results.items():\n",
    "        count_pred+=1\n",
    "        \n",
    "        pii = name\n",
    "\n",
    "        if pred == pii:\n",
    "        # if get_local_domain(pred)[0] == get_local_domain(email)[0]:\n",
    "            row = {f:v for f, v in zip(fields, [pii, pred, 1])}\n",
    "            count_correct+=1\n",
    "            df.append(row)\n",
    "            \n",
    "    for name,pred in results.items():\n",
    "        pii = name\n",
    "    \n",
    "        if pred != pii:\n",
    "        # if get_local_domain(pred)[0] != get_local_domain(email)[0]:\n",
    "            row = {f:v for f, v in zip(fields, [pii, pred, 0])}\n",
    "            df.append(row)\n",
    "\n",
    "\n",
    "    score = {\"predicted\": count_pred, \"correct\": count_correct, \"results_len\":len(results),\n",
    "             \"accuracy\": count_correct/len(results) if len(results)!=0 else np.nan}\n",
    "    \n",
    "    return pd.DataFrame(df), score"
   ]
  },
  {
   "cell_type": "code",
   "execution_count": null,
   "id": "07fc4f80-fe85-4716-8810-51c7541aaffc",
   "metadata": {},
   "outputs": [],
   "source": [
    "import csv\n",
    "import os\n",
    "\n",
    "decoding_algs = [\"greedy\"]#, \"beam_search\"]#\"greedy\" beam_search\n",
    "\n",
    "models = ['gpt-neo-1.3B', 'gpt-neo-2.7B', 'gpt-j-6B']\n",
    "\n",
    "\n",
    "UPDATE_METHODS = [\"memoedit-200\", \"MEMIT-200\", \"GRACE-200\", \"dememorize-200\"] #,\"MEND-100\", \"R-ROME-100\", \"FT-100\", \"ROME-100\", 'regularizedMEMIT-100', 'regularizedMEMIT_False-100']\n",
    "\n",
    "\n",
    "settings = {\"MEMO\":[\"context-50\", \"context-100\", \"context-200\"], \n",
    "            \"ASSOC\":[\"zero_shot-a\", \"zero_shot-b\", \"zero_shot-c\", \"zero_shot-d\"]\n",
    "           }\n",
    "\n",
    "results  = {model: {} for model in models}\n",
    "scores = {model: {} for model in models}"
   ]
  },
  {
   "cell_type": "code",
   "execution_count": null,
   "id": "aad3a9c1-e646-4066-bb34-5e0aa277537e",
   "metadata": {
    "editable": true,
    "slideshow": {
     "slide_type": ""
    },
    "tags": []
   },
   "outputs": [],
   "source": []
  },
  {
   "cell_type": "code",
   "execution_count": null,
   "id": "3687bdae-e815-42e3-bc68-c1611db19ed7",
   "metadata": {},
   "outputs": [],
   "source": []
  },
  {
   "cell_type": "code",
   "execution_count": null,
   "id": "b3eb37e8-56ba-4b29-9487-266785e5b8f7",
   "metadata": {},
   "outputs": [],
   "source": [
    "for model in models:\n",
    "    print(\"*\"*80)\n",
    "    print(model)\n",
    "    print(\"*\"*80)\n",
    "    \n",
    "    for UPDATE_METHOD in UPDATE_METHODS:\n",
    "        for modality in settings.keys():\n",
    "             for decoding_alg in decoding_algs:\n",
    "                for x in settings[modality]:\n",
    "                    \n",
    "                    out_path = f\"./LM_PersonalInfoLeak-main-{pii_type}/results-{UPDATE_METHOD}/{x}-{model}-{decoding_alg}.pkl\"\n",
    "                    \n",
    "                    if not os.path.exists(out_path):\n",
    "                        print(f\"{out_path} not available yet!\")\n",
    "                        continue\n",
    "                    \n",
    "                    print(f\"{out_path} LOADED\")\n",
    "                    df, score = output_dataframe(out_path)\n",
    "                    score['modality'] = modality\n",
    "                    score['x'] = x\n",
    "                    score['decoding'] = decoding_alg\n",
    "                    \n",
    "                    results[model][f\"{UPDATE_METHOD}/{decoding_alg}/{x}\"] = df\n",
    "                    scores[model][f\"{UPDATE_METHOD}/{decoding_alg}/{x}\"] = score\n",
    "                    #display(df.head())"
   ]
  },
  {
   "cell_type": "code",
   "execution_count": null,
   "id": "1a476298-9e03-4fda-9536-423d203d8653",
   "metadata": {},
   "outputs": [],
   "source": [
    "scores['gpt-j-6B'].keys()"
   ]
  },
  {
   "cell_type": "code",
   "execution_count": null,
   "id": "c5031bfb-4b09-4093-b706-a22f884262ae",
   "metadata": {},
   "outputs": [],
   "source": [
    "import csv\n",
    "import os\n",
    "\n",
    "\n",
    "settings = {\"MEMO\":[\"context-50\", \"context-100\", \"context-200\"], \n",
    "            \"ASSOC\":[\"zero_shot-a\", \"zero_shot-b\", \"zero_shot-c\", \"zero_shot-d\"]\n",
    "           }\n",
    "\n",
    "for model in models:\n",
    "    print(\"*\"*80)\n",
    "    print(model)\n",
    "    print(\"*\"*80)\n",
    "    \n",
    "    for modality in settings.keys():\n",
    "         for decoding_alg in decoding_algs:\n",
    "            for x in settings[modality]:\n",
    "                if not os.path.exists(f\"./LM_PersonalInfoLeak-main-{pii_type}/results/{x}-{model}-{decoding_alg}.pkl\"):\n",
    "                    print(f\"{x}-{model}-{decoding_alg} not available yet!\")\n",
    "                    continue\n",
    "                \n",
    "                print(f\"{x}-{model}-{decoding_alg}\")\n",
    "                df, score = output_dataframe(f\"./LM_PersonalInfoLeak-main-{pii_type}/results/{x}-{model}-{decoding_alg}.pkl\")\n",
    "                score['modality'] = modality\n",
    "                score['x'] = x\n",
    "                score['decoding'] = decoding_alg\n",
    "    \n",
    "                \n",
    "                results[model][f\"pre-update/{decoding_alg}/{x}\"] = df\n",
    "                scores[model][f\"pre-update/{decoding_alg}/{x}\"] = score\n",
    "                #display(df.head())"
   ]
  },
  {
   "cell_type": "code",
   "execution_count": null,
   "id": "25419a48-46ba-4ff1-9e9f-a0c911c59c80",
   "metadata": {},
   "outputs": [],
   "source": [
    "scores.keys()"
   ]
  },
  {
   "cell_type": "code",
   "execution_count": null,
   "id": "232ef556-5705-4afe-a9b4-a1e0eb56fdfe",
   "metadata": {},
   "outputs": [],
   "source": [
    "df_scores = {model: None for model in scores}\n",
    "\n",
    "for model in scores:\n",
    "    print(\"*\"*80)\n",
    "    print(model)\n",
    "    print(\"*\"*80)\n",
    "    if len(scores[model]) == 0:\n",
    "        continue\n",
    "    \n",
    "    df_scores[model] =  pd.DataFrame(scores[model]).T\n",
    "    display(df_scores[model].reset_index().set_index([\"modality\", \"decoding\", \"x\"]).sort_index())"
   ]
  },
  {
   "cell_type": "code",
   "execution_count": null,
   "id": "45ad16ab-deaf-4e87-b3d0-f386252f0111",
   "metadata": {},
   "outputs": [],
   "source": []
  },
  {
   "cell_type": "code",
   "execution_count": null,
   "id": "e895738e-0c76-4921-a727-d15501e3eb73",
   "metadata": {},
   "outputs": [],
   "source": [
    "for k in df_scores:\n",
    "    print(\"*\"*80)\n",
    "    print(k)\n",
    "    print(\"*\"*80)\n",
    "    if df_scores[k] is None:\n",
    "        continue\n",
    "    \n",
    "    display(df_scores[k].reset_index().set_index([\"modality\", \"decoding\", \"x\"]).sort_index().loc['MEMO', 'greedy'])"
   ]
  },
  {
   "cell_type": "code",
   "execution_count": null,
   "id": "5696ce7a-b03c-4133-92e1-311af275aebe",
   "metadata": {},
   "outputs": [],
   "source": [
    "# i file generati finora salvano solo se e' stata generata email!\n",
    "# confronto (con nome) tra prima e dopo edit"
   ]
  },
  {
   "cell_type": "code",
   "execution_count": null,
   "id": "76510366-b413-4bf8-8885-eec14bda8721",
   "metadata": {},
   "outputs": [],
   "source": [
    "import csv\n",
    "import os\n",
    "\n",
    "verbose = True\n",
    "\n",
    "results = {}\n",
    "\n",
    "for model in models:\n",
    "    print(\"*\"*80)\n",
    "    print(model)\n",
    "    print(\"*\"*80)\n",
    "    for modality in settings.keys():\n",
    "         for decoding_alg in decoding_algs:\n",
    "            for x in settings[modality]:\n",
    "                print(\"-\"*30)\n",
    "                print(x)\n",
    "                print(\"-\"*30)\n",
    "\n",
    "                \n",
    "                \n",
    "                if not os.path.exists(f\"./LM_PersonalInfoLeak-main-{pii_type}/results/{x}-{model}-{decoding_alg}.pkl\") or not os.path.exists(f\"./LM_PersonalInfoLeak-main-{pii_type}/results/{x}-{model}-{decoding_alg}.csv\"):\n",
    "                    print(f\"{x}-{model}-{decoding_alg} not available yet!\")\n",
    "                    continue\n",
    "                \n",
    "                print(f\"{x}-{model}-{decoding_alg}\")\n",
    "                results[f\"{x}-{model}-{decoding_alg}\"] = {}\n",
    "                \n",
    "                pre_update = load_pickle(f\"./LM_PersonalInfoLeak-main-{pii_type}/results/{x}-{model}-{decoding_alg}.pkl\")\n",
    "                \n",
    "                out1 = pd.read_csv(f\"./LM_PersonalInfoLeak-main-{pii_type}/results/{x}-{model}-{decoding_alg}.csv\")\n",
    "                results[f\"{x}-{model}-{decoding_alg}\"]['pre'] = out1\n",
    "                 \n",
    "                    \n",
    "                for UPDATE_METHOD in UPDATE_METHODS:\n",
    "                    out_path = f\"./LM_PersonalInfoLeak-main-{pii_type}/results-{UPDATE_METHOD}/{x}-{model}-{decoding_alg}\"\n",
    "                    \n",
    "                    if not os.path.exists(f\"{out_path}.csv\") or not os.path.exists(f\"{out_path}.pkl\"):\n",
    "                        print(f\"{out_path} not available yet!\")\n",
    "                        continue\n",
    "                    \n",
    "                    post_update = load_pickle(f\"{out_path}.pkl\")\n",
    "                    \n",
    "                    out1= pd.read_csv(f\"{out_path}.csv\")\n",
    "                    \n",
    "                    results[f\"{x}-{model}-{decoding_alg}\"][f'{UPDATE_METHOD}'] = out1\n",
    "                    \n",
    "                print()"
   ]
  },
  {
   "cell_type": "code",
   "execution_count": null,
   "id": "88b63443-242f-4f3c-b414-a41b2744c4dd",
   "metadata": {},
   "outputs": [],
   "source": [
    "#results[f\"{x}-{model}-{decoding_alg}\"]#['MEMIT-200']"
   ]
  },
  {
   "cell_type": "code",
   "execution_count": null,
   "id": "dce3ca31-cfee-4871-8fe4-31d209fd85ba",
   "metadata": {},
   "outputs": [],
   "source": []
  },
  {
   "cell_type": "code",
   "execution_count": null,
   "id": "210b90c5-ffd4-412c-99a7-4f5df62737d0",
   "metadata": {},
   "outputs": [],
   "source": [
    "################ compute scores ################\n",
    "\n",
    "scores = {}\n",
    "\n",
    "for model in models:\n",
    "    for modality in settings.keys():\n",
    "         for decoding_alg in decoding_algs:\n",
    "            for x in settings[modality]:\n",
    "                print(f\"{x}-{model}-{decoding_alg}\")\n",
    "                scores[f\"{x}-{model}-{decoding_alg}\"] = {}\n",
    "                #print(\"\\tpre:\", len(results[f\"{x}-{model}-{decoding_alg}\"]['pre']))\n",
    "                scores[f\"{x}-{model}-{decoding_alg}\"]['pre'] = len(results[f\"{x}-{model}-{decoding_alg}\"]['pre'][results[f\"{x}-{model}-{decoding_alg}\"]['pre']['Label'] == 1])\n",
    "                scores[f\"{x}-{model}-{decoding_alg}\"]['pre-len'] = len(results[f\"{x}-{model}-{decoding_alg}\"]['pre'])\n",
    "                scores[f\"{x}-{model}-{decoding_alg}\"]['pre-acc'] = scores[f\"{x}-{model}-{decoding_alg}\"]['pre'] / scores[f\"{x}-{model}-{decoding_alg}\"]['pre-len']\n",
    "\n",
    "\n",
    "                ## all pii that caused the generation of an email pre-updates\n",
    "                piis = set(results[f\"{x}-{model}-{decoding_alg}\"]['pre']['PII'].values)\n",
    "                \n",
    "                for UPDATE_METHOD in UPDATE_METHODS:\n",
    "                    if f'{UPDATE_METHOD}' in results[f\"{x}-{model}-{decoding_alg}\"]:\n",
    "                        #print(f\"\\t\\tpost\", len(results[f\"{x}-{model}-{decoding_alg}\"][f'post']))\n",
    "                        out = results[f\"{x}-{model}-{decoding_alg}\"][f'{UPDATE_METHOD}']\n",
    "                        scores[f\"{x}-{model}-{decoding_alg}\"][f'{UPDATE_METHOD}-all'] = len(out[out['Label'] == 1])\n",
    "                        scores[f\"{x}-{model}-{decoding_alg}\"][f'{UPDATE_METHOD}-all-len'] = len(out)\n",
    "                                                                                                            \n",
    "                        if scores[f\"{x}-{model}-{decoding_alg}\"][f'{UPDATE_METHOD}-all-len']  != 0:\n",
    "                            acc = scores[f\"{x}-{model}-{decoding_alg}\"][f'{UPDATE_METHOD}-all'] / scores[f\"{x}-{model}-{decoding_alg}\"][f'{UPDATE_METHOD}-all-len']\n",
    "                        else:\n",
    "                            acc = np.nan\n",
    "\n",
    "                        scores[f\"{x}-{model}-{decoding_alg}\"][f'{UPDATE_METHOD}-all-acc'] = acc\n",
    "                        \n",
    "                        subset = out[out['PII'].isin(piis)]\n",
    "\n",
    "                        scores[f\"{x}-{model}-{decoding_alg}\"][f'{UPDATE_METHOD}'] = len(subset[subset['Label'] == 1])\n",
    "                        scores[f\"{x}-{model}-{decoding_alg}\"][f'{UPDATE_METHOD}-len'] = len(subset)\n",
    "\n",
    "                        if scores[f\"{x}-{model}-{decoding_alg}\"][f'{UPDATE_METHOD}-len'] != 0:\n",
    "                            acc = scores[f\"{x}-{model}-{decoding_alg}\"][f'{UPDATE_METHOD}'] / scores[f\"{x}-{model}-{decoding_alg}\"]['pre-len']\n",
    "                        else:\n",
    "                            acc = np.nan\n",
    "                        \n",
    "                        scores[f\"{x}-{model}-{decoding_alg}\"][f'{UPDATE_METHOD}-acc'] = acc\n",
    "                \n",
    "                        #print(len(results[f\"{x}-{model}-{decoding_alg}\"]['pre']), len(names), len(subset))\n",
    "\n",
    "            #print(scores[f\"{x}-{model}-{decoding_alg}\"])\n",
    "\n",
    "scores = pd.DataFrame(scores).T"
   ]
  },
  {
   "cell_type": "code",
   "execution_count": null,
   "id": "cfd84a3d-5a9d-4533-8994-02db7d5800d1",
   "metadata": {},
   "outputs": [],
   "source": []
  },
  {
   "cell_type": "code",
   "execution_count": null,
   "id": "fff44bac-5913-4bcd-aff2-914a27721b2e",
   "metadata": {},
   "outputs": [],
   "source": [
    "columns = ['pre', 'pre-len']\n",
    "for UPDATE_METHOD in UPDATE_METHODS:\n",
    "    if f'{UPDATE_METHOD}-all' not in scores:\n",
    "        print(f'{UPDATE_METHOD}-all not ready')\n",
    "        continue\n",
    "        \n",
    "    columns.append(f'{UPDATE_METHOD}-all')\n",
    "    columns.append(f'{UPDATE_METHOD}-all-len')\n",
    "\n",
    "scores[columns]"
   ]
  },
  {
   "cell_type": "code",
   "execution_count": null,
   "id": "a2848c62-1dff-46ad-ab5b-c863180be4fa",
   "metadata": {},
   "outputs": [],
   "source": [
    "columns = ['pre', 'pre-len', 'pre-acc']\n",
    "for UPDATE_METHOD in UPDATE_METHODS:\n",
    "    if f'{UPDATE_METHOD}-all' not in scores:\n",
    "        print(f'{UPDATE_METHOD}-all not ready')\n",
    "        continue\n",
    "        \n",
    "    columns.append(f'{UPDATE_METHOD}')\n",
    "    columns.append(f'{UPDATE_METHOD}-len')\n",
    "    columns.append(f'{UPDATE_METHOD}-acc')\n",
    "\n",
    "scores[columns]"
   ]
  },
  {
   "cell_type": "code",
   "execution_count": null,
   "id": "987ce83b-bf72-41c9-9081-593a1082f33e",
   "metadata": {
    "editable": true,
    "slideshow": {
     "slide_type": ""
    },
    "tags": []
   },
   "outputs": [],
   "source": [
    "columns = ['pre', 'pre-len', 'pre-acc']\n",
    "for UPDATE_METHOD in UPDATE_METHODS:\n",
    "    if f'{UPDATE_METHOD}-all' not in scores:\n",
    "        print(f'{UPDATE_METHOD}-all not ready')\n",
    "        continue\n",
    "    columns.append(f'{UPDATE_METHOD}')\n",
    "    columns.append(f'{UPDATE_METHOD}-acc')\n",
    "\n",
    "    scores[f'delta-{UPDATE_METHOD}'] = scores[f'pre-acc'] - scores[f'{UPDATE_METHOD}-acc']\n",
    "    columns.append(f'delta-{UPDATE_METHOD}')\n",
    "        \n",
    "#### tab\n",
    "scores[columns].apply(lambda x: round(x,3))"
   ]
  },
  {
   "cell_type": "code",
   "execution_count": null,
   "id": "65ac132c-dc50-4bd9-9ac2-fc876a86d9c8",
   "metadata": {
    "editable": true,
    "slideshow": {
     "slide_type": ""
    },
    "tags": []
   },
   "outputs": [],
   "source": [
    "# Export the DataFrame to a CSV file\n",
    "scores.apply(lambda x: round(x,3)).to_csv(f'post_edit_{pii_type}_attacks_output.csv')"
   ]
  },
  {
   "cell_type": "code",
   "execution_count": null,
   "id": "de20c6b3-94ff-49a3-9bbe-f2921561c936",
   "metadata": {},
   "outputs": [],
   "source": [
    "if not os.path.exists('post_edit_attacks_res'):\n",
    "    os.mkdir('post_edit_attacks_res')\n",
    "scores[columns].apply(lambda x: round(x,3)).to_csv(f'post_edit_attacks_res/{pii_type}.csv')"
   ]
  },
  {
   "cell_type": "code",
   "execution_count": null,
   "id": "5d1b9899-81c3-4b69-a3dc-86003e089698",
   "metadata": {},
   "outputs": [],
   "source": [
    "exit()"
   ]
  },
  {
   "cell_type": "code",
   "execution_count": null,
   "id": "78e7e653-3c33-40a5-839b-99e9aee8fc1f",
   "metadata": {},
   "outputs": [],
   "source": []
  },
  {
   "cell_type": "code",
   "execution_count": null,
   "id": "26340bf3-bd29-47db-9eb5-c586e019a86f",
   "metadata": {},
   "outputs": [],
   "source": []
  }
 ],
 "metadata": {
  "kernelspec": {
   "display_name": "Python 3 (ipykernel)",
   "language": "python",
   "name": "python3"
  },
  "language_info": {
   "codemirror_mode": {
    "name": "ipython",
    "version": 3
   },
   "file_extension": ".py",
   "mimetype": "text/x-python",
   "name": "python",
   "nbconvert_exporter": "python",
   "pygments_lexer": "ipython3",
   "version": "3.11.8"
  }
 },
 "nbformat": 4,
 "nbformat_minor": 5
}
